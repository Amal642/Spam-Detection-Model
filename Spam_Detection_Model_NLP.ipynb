{
  "nbformat": 4,
  "nbformat_minor": 0,
  "metadata": {
    "colab": {
      "name": "Spam Detection Model NLP.ipynb",
      "provenance": [],
      "mount_file_id": "1V95s0hq0JnxwVz_Cdhq4osnaM8S8RrPD",
      "authorship_tag": "ABX9TyNcO6prjecd0fcqP9WOa2P1",
      "include_colab_link": true
    },
    "kernelspec": {
      "name": "python3",
      "display_name": "Python 3"
    },
    "language_info": {
      "name": "python"
    }
  },
  "cells": [
    {
      "cell_type": "markdown",
      "metadata": {
        "id": "view-in-github",
        "colab_type": "text"
      },
      "source": [
        "<a href=\"https://colab.research.google.com/github/Amal642/Spam-Detection-Model/blob/main/Spam_Detection_Model_NLP.ipynb\" target=\"_parent\"><img src=\"https://colab.research.google.com/assets/colab-badge.svg\" alt=\"Open In Colab\"/></a>"
      ]
    },
    {
      "cell_type": "code",
      "metadata": {
        "id": "Jr79vDARekCJ",
        "colab": {
          "base_uri": "https://localhost:8080/"
        },
        "outputId": "d2a6a7fc-c4fd-489b-d8db-cf02491e5ea5"
      },
      "source": [
        "import pandas as pd\n",
        "import re\n",
        "import nltk\n",
        "nltk.download('stopwords')\n",
        "import string\n",
        "pd.set_option('display.max_colWidth',100)\n",
        "\n",
        "stopwords=nltk.corpus.stopwords.words('english')\n",
        "ps=nltk.PorterStemmer()\n",
        "\n",
        "data=pd.read_csv('/content/drive/MyDrive/SMSSpamCollection.tsv',sep='\\t')\n",
        "data.columns=['label','body']\n"
      ],
      "execution_count": 5,
      "outputs": [
        {
          "output_type": "stream",
          "text": [
            "[nltk_data] Downloading package stopwords to /root/nltk_data...\n",
            "[nltk_data]   Package stopwords is already up-to-date!\n"
          ],
          "name": "stdout"
        }
      ]
    },
    {
      "cell_type": "code",
      "metadata": {
        "id": "Q9oyvivtBRNt"
      },
      "source": [
        "def clean(text):\n",
        "  text=\"\".join([char for char in text if char not in string.punctuation])\n",
        "  tokens=re.split('\\W+',text)\n",
        "  text=[ps.stem(word) for word in tokens if word not in stopwords]\n",
        "  return text"
      ],
      "execution_count": 8,
      "outputs": []
    },
    {
      "cell_type": "code",
      "metadata": {
        "id": "_aSxsX53CWVz"
      },
      "source": [
        "from sklearn.feature_extraction.text import CountVectorizer\n",
        "\n",
        "count=CountVectorizer(analyzer=clean)\n",
        "x_count=count.fit_transform(data['body'])\n"
      ],
      "execution_count": 9,
      "outputs": []
    },
    {
      "cell_type": "code",
      "metadata": {
        "colab": {
          "base_uri": "https://localhost:8080/"
        },
        "id": "iMi-EtMHDkfh",
        "outputId": "ec14a725-2c40-4630-c5df-325d7800a417"
      },
      "source": [
        "x=x_count.toarray()\n",
        "y=data.iloc[:,0].values\n",
        "y"
      ],
      "execution_count": 11,
      "outputs": [
        {
          "output_type": "execute_result",
          "data": {
            "text/plain": [
              "array(['spam', 'ham', 'ham', ..., 'ham', 'ham', 'ham'], dtype=object)"
            ]
          },
          "metadata": {
            "tags": []
          },
          "execution_count": 11
        }
      ]
    },
    {
      "cell_type": "code",
      "metadata": {
        "colab": {
          "base_uri": "https://localhost:8080/"
        },
        "id": "t4AoMtNsETcy",
        "outputId": "4b4d992b-949d-4a35-84c2-b1f5d2d91b57"
      },
      "source": [
        "from sklearn.preprocessing import LabelEncoder\n",
        "\n",
        "lb=LabelEncoder()\n",
        "y=lb.fit_transform(y)\n",
        "y"
      ],
      "execution_count": 12,
      "outputs": [
        {
          "output_type": "execute_result",
          "data": {
            "text/plain": [
              "array([1, 0, 0, ..., 0, 0, 0])"
            ]
          },
          "metadata": {
            "tags": []
          },
          "execution_count": 12
        }
      ]
    },
    {
      "cell_type": "code",
      "metadata": {
        "id": "YLNZS7QzG6xE"
      },
      "source": [
        "from sklearn.model_selection import train_test_split\n",
        "\n",
        "x_train,x_test,y_train,y_test=train_test_split(x,y,test_size=0.2,random_state=0)"
      ],
      "execution_count": 17,
      "outputs": []
    },
    {
      "cell_type": "code",
      "metadata": {
        "colab": {
          "base_uri": "https://localhost:8080/"
        },
        "id": "LIj-UjggHgSV",
        "outputId": "c8427b29-15ff-4c79-ed0b-78fdfdbf0eff"
      },
      "source": [
        "from sklearn.naive_bayes import GaussianNB\n",
        "classifier=GaussianNB()\n",
        "classifier.fit(x_train,y_train)"
      ],
      "execution_count": 18,
      "outputs": [
        {
          "output_type": "execute_result",
          "data": {
            "text/plain": [
              "GaussianNB(priors=None, var_smoothing=1e-09)"
            ]
          },
          "metadata": {
            "tags": []
          },
          "execution_count": 18
        }
      ]
    },
    {
      "cell_type": "code",
      "metadata": {
        "id": "zUi49wjwH4ey"
      },
      "source": [
        "y_pred=classifier.predict(x_test)"
      ],
      "execution_count": 19,
      "outputs": []
    },
    {
      "cell_type": "code",
      "metadata": {
        "colab": {
          "base_uri": "https://localhost:8080/"
        },
        "id": "ZHStDIxlIeXe",
        "outputId": "5c38ec35-10f6-430b-f677-da99064a896f"
      },
      "source": [
        "from sklearn.metrics import confusion_matrix,accuracy_score\n",
        "cm=confusion_matrix(y_test,y_pred)\n",
        "cm"
      ],
      "execution_count": 21,
      "outputs": [
        {
          "output_type": "execute_result",
          "data": {
            "text/plain": [
              "array([[855, 104],\n",
              "       [ 12, 143]])"
            ]
          },
          "metadata": {
            "tags": []
          },
          "execution_count": 21
        }
      ]
    },
    {
      "cell_type": "code",
      "metadata": {
        "colab": {
          "base_uri": "https://localhost:8080/"
        },
        "id": "KJylLQkQI6ou",
        "outputId": "15eae2a5-e70d-4287-c8a4-4b3a56be5977"
      },
      "source": [
        "acc=accuracy_score(y_test,y_pred)\n",
        "acc"
      ],
      "execution_count": 23,
      "outputs": [
        {
          "output_type": "execute_result",
          "data": {
            "text/plain": [
              "0.895870736086176"
            ]
          },
          "metadata": {
            "tags": []
          },
          "execution_count": 23
        }
      ]
    }
  ]
}